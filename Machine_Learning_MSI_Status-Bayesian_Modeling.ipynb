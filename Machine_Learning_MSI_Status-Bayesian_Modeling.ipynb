{
 "cells": [
  {
   "cell_type": "markdown",
   "id": "918bb2db",
   "metadata": {},
   "source": [
    "# Program Runs Machine Learning- Naive Bayes to Predict MSI Status"
   ]
  },
  {
   "cell_type": "markdown",
   "id": "cb830de4",
   "metadata": {},
   "source": [
    "Important to Note--- Naive Bayes Predicts an Outcome and DOES NOT Predict Feature Importance, Model is Used to Make a Prediction Results--- Better to Use With Drug Outcome Data\n",
    "\n",
    "WARNING MSI data is very spares, so program is more for demostration purposes. "
   ]
  },
  {
   "cell_type": "code",
   "execution_count": 24,
   "id": "dcd511ab",
   "metadata": {},
   "outputs": [],
   "source": [
    "import sys\n",
    "import os\n",
    "import pandas as pd\n",
    "import numpy as np\n",
    "import matplotlib.pyplot as plt\n",
    "from scipy import stats\n",
    "from scipy.stats import randint\n",
    "\n",
    "# SciKit Learn Packages\n",
    "from sklearn.preprocessing import StandardScaler\n",
    "from sklearn.decomposition import PCA\n",
    "from sklearn.ensemble import RandomForestClassifier\n",
    "from sklearn.metrics import accuracy_score, confusion_matrix, precision_score, recall_score, ConfusionMatrixDisplay\n",
    "from sklearn.model_selection import RandomizedSearchCV, train_test_split\n",
    "from sklearn.model_selection import cross_validate\n",
    "from sklearn.linear_model import LogisticRegression\n",
    "from sklearn.model_selection import StratifiedKFold\n",
    "from sklearn.svm import SVC\n",
    "from sklearn.model_selection import GridSearchCV\n",
    "from sklearn.metrics import roc_curve, roc_auc_score\n",
    "\n",
    "from sklearn.datasets import make_classification"
   ]
  },
  {
   "cell_type": "markdown",
   "id": "2fa61fc0",
   "metadata": {},
   "source": [
    "# Load the Dataframes"
   ]
  },
  {
   "cell_type": "code",
   "execution_count": 2,
   "id": "ba9ca209",
   "metadata": {},
   "outputs": [],
   "source": [
    "crispr_dataframe = pd.read_csv('CRISPRGeneEffect.csv')\n",
    "\n",
    "sample_info = pd.read_csv('model_list_20240110.csv')"
   ]
  },
  {
   "cell_type": "markdown",
   "id": "8d729f1a",
   "metadata": {},
   "source": [
    "# Examine Sample Info Dataframe"
   ]
  },
  {
   "cell_type": "code",
   "execution_count": 3,
   "id": "29611768",
   "metadata": {},
   "outputs": [
    {
     "data": {
      "text/html": [
       "<div>\n",
       "<style scoped>\n",
       "    .dataframe tbody tr th:only-of-type {\n",
       "        vertical-align: middle;\n",
       "    }\n",
       "\n",
       "    .dataframe tbody tr th {\n",
       "        vertical-align: top;\n",
       "    }\n",
       "\n",
       "    .dataframe thead th {\n",
       "        text-align: right;\n",
       "    }\n",
       "</style>\n",
       "<table border=\"1\" class=\"dataframe\">\n",
       "  <thead>\n",
       "    <tr style=\"text-align: right;\">\n",
       "      <th></th>\n",
       "      <th>model_id</th>\n",
       "      <th>sample_id</th>\n",
       "      <th>patient_id</th>\n",
       "      <th>parent_id</th>\n",
       "      <th>model_name</th>\n",
       "      <th>synonyms</th>\n",
       "      <th>tissue</th>\n",
       "      <th>cancer_type</th>\n",
       "      <th>cancer_type_ncit_id</th>\n",
       "      <th>tissue_status</th>\n",
       "      <th>...</th>\n",
       "      <th>msh6_expression_by_ihc</th>\n",
       "      <th>braf_mutation_identified</th>\n",
       "      <th>braf_expression_by_ihc</th>\n",
       "      <th>pik3ca_mutation_identified</th>\n",
       "      <th>pten_expression_by_ihc</th>\n",
       "      <th>pten_mutation_identified</th>\n",
       "      <th>kras_mutation_identified</th>\n",
       "      <th>mismatch_repair_status</th>\n",
       "      <th>preoperative_ce_alevel</th>\n",
       "      <th>crispr_ko_data</th>\n",
       "    </tr>\n",
       "  </thead>\n",
       "  <tbody>\n",
       "    <tr>\n",
       "      <th>0</th>\n",
       "      <td>SIDM01774</td>\n",
       "      <td>SIDS01659</td>\n",
       "      <td>SIDP01578</td>\n",
       "      <td>NaN</td>\n",
       "      <td>PK-59</td>\n",
       "      <td>NaN</td>\n",
       "      <td>Pancreas</td>\n",
       "      <td>Pancreatic Carcinoma</td>\n",
       "      <td>C3850</td>\n",
       "      <td>Metastasis</td>\n",
       "      <td>...</td>\n",
       "      <td>NaN</td>\n",
       "      <td>NaN</td>\n",
       "      <td>NaN</td>\n",
       "      <td>NaN</td>\n",
       "      <td>NaN</td>\n",
       "      <td>NaN</td>\n",
       "      <td>NaN</td>\n",
       "      <td>NaN</td>\n",
       "      <td>NaN</td>\n",
       "      <td>False</td>\n",
       "    </tr>\n",
       "    <tr>\n",
       "      <th>1</th>\n",
       "      <td>SIDM00192</td>\n",
       "      <td>SIDS00612</td>\n",
       "      <td>SIDP00541</td>\n",
       "      <td>NaN</td>\n",
       "      <td>SNU-1033</td>\n",
       "      <td>NaN</td>\n",
       "      <td>Large Intestine</td>\n",
       "      <td>Colorectal Carcinoma</td>\n",
       "      <td>C9383</td>\n",
       "      <td>Tumour</td>\n",
       "      <td>...</td>\n",
       "      <td>NaN</td>\n",
       "      <td>NaN</td>\n",
       "      <td>NaN</td>\n",
       "      <td>NaN</td>\n",
       "      <td>NaN</td>\n",
       "      <td>NaN</td>\n",
       "      <td>NaN</td>\n",
       "      <td>NaN</td>\n",
       "      <td>NaN</td>\n",
       "      <td>True</td>\n",
       "    </tr>\n",
       "    <tr>\n",
       "      <th>2</th>\n",
       "      <td>SIDM01447</td>\n",
       "      <td>SIDS01466</td>\n",
       "      <td>SIDP01347</td>\n",
       "      <td>NaN</td>\n",
       "      <td>SNU-466</td>\n",
       "      <td>NaN</td>\n",
       "      <td>Central Nervous System</td>\n",
       "      <td>Glioblastoma</td>\n",
       "      <td>C3058</td>\n",
       "      <td>Tumour</td>\n",
       "      <td>...</td>\n",
       "      <td>NaN</td>\n",
       "      <td>NaN</td>\n",
       "      <td>NaN</td>\n",
       "      <td>NaN</td>\n",
       "      <td>NaN</td>\n",
       "      <td>NaN</td>\n",
       "      <td>NaN</td>\n",
       "      <td>NaN</td>\n",
       "      <td>NaN</td>\n",
       "      <td>False</td>\n",
       "    </tr>\n",
       "    <tr>\n",
       "      <th>3</th>\n",
       "      <td>SIDM01554</td>\n",
       "      <td>SIDS01363</td>\n",
       "      <td>SIDP01247</td>\n",
       "      <td>NaN</td>\n",
       "      <td>IST-MES-2</td>\n",
       "      <td>NaN</td>\n",
       "      <td>Lung</td>\n",
       "      <td>Mesothelioma</td>\n",
       "      <td>C45662</td>\n",
       "      <td>Unknown</td>\n",
       "      <td>...</td>\n",
       "      <td>NaN</td>\n",
       "      <td>NaN</td>\n",
       "      <td>NaN</td>\n",
       "      <td>NaN</td>\n",
       "      <td>NaN</td>\n",
       "      <td>NaN</td>\n",
       "      <td>NaN</td>\n",
       "      <td>NaN</td>\n",
       "      <td>NaN</td>\n",
       "      <td>True</td>\n",
       "    </tr>\n",
       "    <tr>\n",
       "      <th>4</th>\n",
       "      <td>SIDM01689</td>\n",
       "      <td>SIDS01631</td>\n",
       "      <td>SIDP01557</td>\n",
       "      <td>NaN</td>\n",
       "      <td>MUTZ-5</td>\n",
       "      <td>NaN</td>\n",
       "      <td>Haematopoietic and Lymphoid</td>\n",
       "      <td>B-Lymphoblastic Leukemia</td>\n",
       "      <td>C8644</td>\n",
       "      <td>Tumour</td>\n",
       "      <td>...</td>\n",
       "      <td>NaN</td>\n",
       "      <td>NaN</td>\n",
       "      <td>NaN</td>\n",
       "      <td>NaN</td>\n",
       "      <td>NaN</td>\n",
       "      <td>NaN</td>\n",
       "      <td>NaN</td>\n",
       "      <td>NaN</td>\n",
       "      <td>NaN</td>\n",
       "      <td>False</td>\n",
       "    </tr>\n",
       "  </tbody>\n",
       "</table>\n",
       "<p>5 rows × 97 columns</p>\n",
       "</div>"
      ],
      "text/plain": [
       "    model_id  sample_id patient_id parent_id model_name synonyms  \\\n",
       "0  SIDM01774  SIDS01659  SIDP01578       NaN      PK-59      NaN   \n",
       "1  SIDM00192  SIDS00612  SIDP00541       NaN   SNU-1033      NaN   \n",
       "2  SIDM01447  SIDS01466  SIDP01347       NaN    SNU-466      NaN   \n",
       "3  SIDM01554  SIDS01363  SIDP01247       NaN  IST-MES-2      NaN   \n",
       "4  SIDM01689  SIDS01631  SIDP01557       NaN     MUTZ-5      NaN   \n",
       "\n",
       "                        tissue               cancer_type cancer_type_ncit_id  \\\n",
       "0                     Pancreas      Pancreatic Carcinoma               C3850   \n",
       "1              Large Intestine      Colorectal Carcinoma               C9383   \n",
       "2       Central Nervous System              Glioblastoma               C3058   \n",
       "3                         Lung              Mesothelioma              C45662   \n",
       "4  Haematopoietic and Lymphoid  B-Lymphoblastic Leukemia               C8644   \n",
       "\n",
       "  tissue_status  ... msh6_expression_by_ihc braf_mutation_identified  \\\n",
       "0    Metastasis  ...                    NaN                      NaN   \n",
       "1        Tumour  ...                    NaN                      NaN   \n",
       "2        Tumour  ...                    NaN                      NaN   \n",
       "3       Unknown  ...                    NaN                      NaN   \n",
       "4        Tumour  ...                    NaN                      NaN   \n",
       "\n",
       "  braf_expression_by_ihc pik3ca_mutation_identified pten_expression_by_ihc  \\\n",
       "0                    NaN                        NaN                    NaN   \n",
       "1                    NaN                        NaN                    NaN   \n",
       "2                    NaN                        NaN                    NaN   \n",
       "3                    NaN                        NaN                    NaN   \n",
       "4                    NaN                        NaN                    NaN   \n",
       "\n",
       "   pten_mutation_identified  kras_mutation_identified  mismatch_repair_status  \\\n",
       "0                       NaN                       NaN                     NaN   \n",
       "1                       NaN                       NaN                     NaN   \n",
       "2                       NaN                       NaN                     NaN   \n",
       "3                       NaN                       NaN                     NaN   \n",
       "4                       NaN                       NaN                     NaN   \n",
       "\n",
       "  preoperative_ce_alevel  crispr_ko_data  \n",
       "0                    NaN           False  \n",
       "1                    NaN            True  \n",
       "2                    NaN           False  \n",
       "3                    NaN            True  \n",
       "4                    NaN           False  \n",
       "\n",
       "[5 rows x 97 columns]"
      ]
     },
     "execution_count": 3,
     "metadata": {},
     "output_type": "execute_result"
    }
   ],
   "source": [
    "sample_info.head(5)"
   ]
  },
  {
   "cell_type": "markdown",
   "id": "dbdd64de",
   "metadata": {},
   "source": [
    "# Filter the Sample File for Specific Columns"
   ]
  },
  {
   "cell_type": "code",
   "execution_count": 4,
   "id": "028bc4c0",
   "metadata": {
    "scrolled": true
   },
   "outputs": [
    {
     "name": "stdout",
     "output_type": "stream",
     "text": [
      "(2155, 3)\n",
      "\n"
     ]
    },
    {
     "data": {
      "text/html": [
       "<div>\n",
       "<style scoped>\n",
       "    .dataframe tbody tr th:only-of-type {\n",
       "        vertical-align: middle;\n",
       "    }\n",
       "\n",
       "    .dataframe tbody tr th {\n",
       "        vertical-align: top;\n",
       "    }\n",
       "\n",
       "    .dataframe thead th {\n",
       "        text-align: right;\n",
       "    }\n",
       "</style>\n",
       "<table border=\"1\" class=\"dataframe\">\n",
       "  <thead>\n",
       "    <tr style=\"text-align: right;\">\n",
       "      <th></th>\n",
       "      <th>BROAD_ID</th>\n",
       "      <th>cancer_type</th>\n",
       "      <th>msi_status</th>\n",
       "    </tr>\n",
       "  </thead>\n",
       "  <tbody>\n",
       "    <tr>\n",
       "      <th>0</th>\n",
       "      <td>ACH-000205</td>\n",
       "      <td>Pancreatic Carcinoma</td>\n",
       "      <td>NaN</td>\n",
       "    </tr>\n",
       "    <tr>\n",
       "      <th>1</th>\n",
       "      <td>ACH-000286</td>\n",
       "      <td>Colorectal Carcinoma</td>\n",
       "      <td>NaN</td>\n",
       "    </tr>\n",
       "    <tr>\n",
       "      <th>2</th>\n",
       "      <td>ACH-000289</td>\n",
       "      <td>Glioblastoma</td>\n",
       "      <td>NaN</td>\n",
       "    </tr>\n",
       "    <tr>\n",
       "      <th>3</th>\n",
       "      <td>ACH-000331</td>\n",
       "      <td>Mesothelioma</td>\n",
       "      <td>NaN</td>\n",
       "    </tr>\n",
       "    <tr>\n",
       "      <th>4</th>\n",
       "      <td>ACH-000492</td>\n",
       "      <td>B-Lymphoblastic Leukemia</td>\n",
       "      <td>NaN</td>\n",
       "    </tr>\n",
       "  </tbody>\n",
       "</table>\n",
       "</div>"
      ],
      "text/plain": [
       "     BROAD_ID               cancer_type msi_status\n",
       "0  ACH-000205      Pancreatic Carcinoma        NaN\n",
       "1  ACH-000286      Colorectal Carcinoma        NaN\n",
       "2  ACH-000289              Glioblastoma        NaN\n",
       "3  ACH-000331              Mesothelioma        NaN\n",
       "4  ACH-000492  B-Lymphoblastic Leukemia        NaN"
      ]
     },
     "execution_count": 4,
     "metadata": {},
     "output_type": "execute_result"
    }
   ],
   "source": [
    "filt_sample_info = sample_info[['BROAD_ID', 'cancer_type', 'msi_status']]\n",
    "print (filt_sample_info.shape)\n",
    "print (\"\")\n",
    "filt_sample_info.head(5)"
   ]
  },
  {
   "cell_type": "markdown",
   "id": "bc8c7f78",
   "metadata": {},
   "source": [
    "# Drop the NaNs from the Dataframe"
   ]
  },
  {
   "cell_type": "code",
   "execution_count": 5,
   "id": "1df44f27",
   "metadata": {
    "scrolled": true
   },
   "outputs": [
    {
     "name": "stdout",
     "output_type": "stream",
     "text": [
      "(1032, 3)\n"
     ]
    },
    {
     "data": {
      "text/html": [
       "<div>\n",
       "<style scoped>\n",
       "    .dataframe tbody tr th:only-of-type {\n",
       "        vertical-align: middle;\n",
       "    }\n",
       "\n",
       "    .dataframe tbody tr th {\n",
       "        vertical-align: top;\n",
       "    }\n",
       "\n",
       "    .dataframe thead th {\n",
       "        text-align: right;\n",
       "    }\n",
       "</style>\n",
       "<table border=\"1\" class=\"dataframe\">\n",
       "  <thead>\n",
       "    <tr style=\"text-align: right;\">\n",
       "      <th></th>\n",
       "      <th>BROAD_ID</th>\n",
       "      <th>cancer_type</th>\n",
       "      <th>msi_status</th>\n",
       "    </tr>\n",
       "  </thead>\n",
       "  <tbody>\n",
       "    <tr>\n",
       "      <th>10</th>\n",
       "      <td>ACH-000532</td>\n",
       "      <td>Colorectal Carcinoma</td>\n",
       "      <td>MSS</td>\n",
       "    </tr>\n",
       "    <tr>\n",
       "      <th>11</th>\n",
       "      <td>ACH-000402</td>\n",
       "      <td>Burkitt's Lymphoma</td>\n",
       "      <td>MSS</td>\n",
       "    </tr>\n",
       "    <tr>\n",
       "      <th>14</th>\n",
       "      <td>ACH-000999</td>\n",
       "      <td>Colorectal Carcinoma</td>\n",
       "      <td>MSI</td>\n",
       "    </tr>\n",
       "    <tr>\n",
       "      <th>15</th>\n",
       "      <td>ACH-000558</td>\n",
       "      <td>Glioblastoma</td>\n",
       "      <td>MSS</td>\n",
       "    </tr>\n",
       "    <tr>\n",
       "      <th>16</th>\n",
       "      <td>ACH-000838</td>\n",
       "      <td>Plasma Cell Myeloma</td>\n",
       "      <td>MSS</td>\n",
       "    </tr>\n",
       "  </tbody>\n",
       "</table>\n",
       "</div>"
      ],
      "text/plain": [
       "      BROAD_ID           cancer_type msi_status\n",
       "10  ACH-000532  Colorectal Carcinoma        MSS\n",
       "11  ACH-000402    Burkitt's Lymphoma        MSS\n",
       "14  ACH-000999  Colorectal Carcinoma        MSI\n",
       "15  ACH-000558          Glioblastoma        MSS\n",
       "16  ACH-000838   Plasma Cell Myeloma        MSS"
      ]
     },
     "execution_count": 5,
     "metadata": {},
     "output_type": "execute_result"
    }
   ],
   "source": [
    "filt_sample_info = filt_sample_info.dropna()\n",
    "print (filt_sample_info.shape)\n",
    "filt_sample_info.head(5)"
   ]
  },
  {
   "cell_type": "markdown",
   "id": "ccf55385",
   "metadata": {},
   "source": [
    "Note Lost about Half the Samples--- We Need Both ACH IDs and MSS-MSI Status for ML--- "
   ]
  },
  {
   "cell_type": "markdown",
   "id": "e15e988f",
   "metadata": {},
   "source": [
    "# Get the Counts from the Column"
   ]
  },
  {
   "cell_type": "code",
   "execution_count": 6,
   "id": "46e57338",
   "metadata": {
    "scrolled": true
   },
   "outputs": [
    {
     "data": {
      "text/plain": [
       "MSS    957\n",
       "MSI     75\n",
       "Name: msi_status, dtype: int64"
      ]
     },
     "execution_count": 6,
     "metadata": {},
     "output_type": "execute_result"
    }
   ],
   "source": [
    "filt_sample_info['msi_status'].value_counts()"
   ]
  },
  {
   "cell_type": "markdown",
   "id": "9b7022fb",
   "metadata": {},
   "source": [
    "# Create a Duplicate Column for Machine Learning (MSS vs MSI)"
   ]
  },
  {
   "cell_type": "code",
   "execution_count": 7,
   "id": "170f92f5",
   "metadata": {
    "scrolled": true
   },
   "outputs": [
    {
     "data": {
      "text/html": [
       "<div>\n",
       "<style scoped>\n",
       "    .dataframe tbody tr th:only-of-type {\n",
       "        vertical-align: middle;\n",
       "    }\n",
       "\n",
       "    .dataframe tbody tr th {\n",
       "        vertical-align: top;\n",
       "    }\n",
       "\n",
       "    .dataframe thead th {\n",
       "        text-align: right;\n",
       "    }\n",
       "</style>\n",
       "<table border=\"1\" class=\"dataframe\">\n",
       "  <thead>\n",
       "    <tr style=\"text-align: right;\">\n",
       "      <th></th>\n",
       "      <th>BROAD_ID</th>\n",
       "      <th>cancer_type</th>\n",
       "      <th>msi_status</th>\n",
       "      <th>Labels</th>\n",
       "    </tr>\n",
       "  </thead>\n",
       "  <tbody>\n",
       "    <tr>\n",
       "      <th>10</th>\n",
       "      <td>ACH-000532</td>\n",
       "      <td>Colorectal Carcinoma</td>\n",
       "      <td>MSS</td>\n",
       "      <td>MSS</td>\n",
       "    </tr>\n",
       "    <tr>\n",
       "      <th>11</th>\n",
       "      <td>ACH-000402</td>\n",
       "      <td>Burkitt's Lymphoma</td>\n",
       "      <td>MSS</td>\n",
       "      <td>MSS</td>\n",
       "    </tr>\n",
       "    <tr>\n",
       "      <th>14</th>\n",
       "      <td>ACH-000999</td>\n",
       "      <td>Colorectal Carcinoma</td>\n",
       "      <td>MSI</td>\n",
       "      <td>MSI</td>\n",
       "    </tr>\n",
       "    <tr>\n",
       "      <th>15</th>\n",
       "      <td>ACH-000558</td>\n",
       "      <td>Glioblastoma</td>\n",
       "      <td>MSS</td>\n",
       "      <td>MSS</td>\n",
       "    </tr>\n",
       "    <tr>\n",
       "      <th>16</th>\n",
       "      <td>ACH-000838</td>\n",
       "      <td>Plasma Cell Myeloma</td>\n",
       "      <td>MSS</td>\n",
       "      <td>MSS</td>\n",
       "    </tr>\n",
       "  </tbody>\n",
       "</table>\n",
       "</div>"
      ],
      "text/plain": [
       "      BROAD_ID           cancer_type msi_status Labels\n",
       "10  ACH-000532  Colorectal Carcinoma        MSS    MSS\n",
       "11  ACH-000402    Burkitt's Lymphoma        MSS    MSS\n",
       "14  ACH-000999  Colorectal Carcinoma        MSI    MSI\n",
       "15  ACH-000558          Glioblastoma        MSS    MSS\n",
       "16  ACH-000838   Plasma Cell Myeloma        MSS    MSS"
      ]
     },
     "execution_count": 7,
     "metadata": {},
     "output_type": "execute_result"
    }
   ],
   "source": [
    "filt_sample_info['Labels'] = filt_sample_info.loc[:, 'msi_status']\n",
    "filt_sample_info.head(5)"
   ]
  },
  {
   "cell_type": "markdown",
   "id": "8aa83eaf",
   "metadata": {},
   "source": [
    "# Re-Label the MSI Status to Zero and One"
   ]
  },
  {
   "cell_type": "code",
   "execution_count": 8,
   "id": "fb407195",
   "metadata": {
    "scrolled": true
   },
   "outputs": [
    {
     "data": {
      "text/html": [
       "<div>\n",
       "<style scoped>\n",
       "    .dataframe tbody tr th:only-of-type {\n",
       "        vertical-align: middle;\n",
       "    }\n",
       "\n",
       "    .dataframe tbody tr th {\n",
       "        vertical-align: top;\n",
       "    }\n",
       "\n",
       "    .dataframe thead th {\n",
       "        text-align: right;\n",
       "    }\n",
       "</style>\n",
       "<table border=\"1\" class=\"dataframe\">\n",
       "  <thead>\n",
       "    <tr style=\"text-align: right;\">\n",
       "      <th></th>\n",
       "      <th>BROAD_ID</th>\n",
       "      <th>cancer_type</th>\n",
       "      <th>msi_status</th>\n",
       "      <th>Labels</th>\n",
       "    </tr>\n",
       "  </thead>\n",
       "  <tbody>\n",
       "    <tr>\n",
       "      <th>10</th>\n",
       "      <td>ACH-000532</td>\n",
       "      <td>Colorectal Carcinoma</td>\n",
       "      <td>MSS</td>\n",
       "      <td>0</td>\n",
       "    </tr>\n",
       "    <tr>\n",
       "      <th>11</th>\n",
       "      <td>ACH-000402</td>\n",
       "      <td>Burkitt's Lymphoma</td>\n",
       "      <td>MSS</td>\n",
       "      <td>0</td>\n",
       "    </tr>\n",
       "    <tr>\n",
       "      <th>14</th>\n",
       "      <td>ACH-000999</td>\n",
       "      <td>Colorectal Carcinoma</td>\n",
       "      <td>MSI</td>\n",
       "      <td>1</td>\n",
       "    </tr>\n",
       "    <tr>\n",
       "      <th>15</th>\n",
       "      <td>ACH-000558</td>\n",
       "      <td>Glioblastoma</td>\n",
       "      <td>MSS</td>\n",
       "      <td>0</td>\n",
       "    </tr>\n",
       "    <tr>\n",
       "      <th>16</th>\n",
       "      <td>ACH-000838</td>\n",
       "      <td>Plasma Cell Myeloma</td>\n",
       "      <td>MSS</td>\n",
       "      <td>0</td>\n",
       "    </tr>\n",
       "  </tbody>\n",
       "</table>\n",
       "</div>"
      ],
      "text/plain": [
       "      BROAD_ID           cancer_type msi_status  Labels\n",
       "10  ACH-000532  Colorectal Carcinoma        MSS       0\n",
       "11  ACH-000402    Burkitt's Lymphoma        MSS       0\n",
       "14  ACH-000999  Colorectal Carcinoma        MSI       1\n",
       "15  ACH-000558          Glioblastoma        MSS       0\n",
       "16  ACH-000838   Plasma Cell Myeloma        MSS       0"
      ]
     },
     "execution_count": 8,
     "metadata": {},
     "output_type": "execute_result"
    }
   ],
   "source": [
    "filt_sample_info[\"Labels\"].replace({\"MSS\": 0, \"MSI\": 1}, inplace=True)\n",
    "filt_sample_info.head(5)"
   ]
  },
  {
   "cell_type": "markdown",
   "id": "4b0090fd",
   "metadata": {},
   "source": [
    "# Examine CRISPR Gene Effect File"
   ]
  },
  {
   "cell_type": "code",
   "execution_count": 9,
   "id": "958f3ba6",
   "metadata": {},
   "outputs": [
    {
     "name": "stdout",
     "output_type": "stream",
     "text": [
      "(1100, 18444)\n",
      "\n",
      "\n"
     ]
    },
    {
     "data": {
      "text/html": [
       "<div>\n",
       "<style scoped>\n",
       "    .dataframe tbody tr th:only-of-type {\n",
       "        vertical-align: middle;\n",
       "    }\n",
       "\n",
       "    .dataframe tbody tr th {\n",
       "        vertical-align: top;\n",
       "    }\n",
       "\n",
       "    .dataframe thead th {\n",
       "        text-align: right;\n",
       "    }\n",
       "</style>\n",
       "<table border=\"1\" class=\"dataframe\">\n",
       "  <thead>\n",
       "    <tr style=\"text-align: right;\">\n",
       "      <th></th>\n",
       "      <th>Unnamed: 0</th>\n",
       "      <th>A1BG (1)</th>\n",
       "      <th>A1CF (29974)</th>\n",
       "      <th>A2M (2)</th>\n",
       "      <th>A2ML1 (144568)</th>\n",
       "      <th>A3GALT2 (127550)</th>\n",
       "      <th>A4GALT (53947)</th>\n",
       "      <th>A4GNT (51146)</th>\n",
       "      <th>AAAS (8086)</th>\n",
       "      <th>AACS (65985)</th>\n",
       "      <th>...</th>\n",
       "      <th>ZWILCH (55055)</th>\n",
       "      <th>ZWINT (11130)</th>\n",
       "      <th>ZXDA (7789)</th>\n",
       "      <th>ZXDB (158586)</th>\n",
       "      <th>ZXDC (79364)</th>\n",
       "      <th>ZYG11A (440590)</th>\n",
       "      <th>ZYG11B (79699)</th>\n",
       "      <th>ZYX (7791)</th>\n",
       "      <th>ZZEF1 (23140)</th>\n",
       "      <th>ZZZ3 (26009)</th>\n",
       "    </tr>\n",
       "  </thead>\n",
       "  <tbody>\n",
       "    <tr>\n",
       "      <th>0</th>\n",
       "      <td>ACH-000001</td>\n",
       "      <td>-0.122637</td>\n",
       "      <td>0.025881</td>\n",
       "      <td>0.034217</td>\n",
       "      <td>-0.128082</td>\n",
       "      <td>-0.031285</td>\n",
       "      <td>0.338046</td>\n",
       "      <td>-0.006439</td>\n",
       "      <td>-0.093642</td>\n",
       "      <td>0.189186</td>\n",
       "      <td>...</td>\n",
       "      <td>-0.131727</td>\n",
       "      <td>-0.039829</td>\n",
       "      <td>0.179405</td>\n",
       "      <td>0.283552</td>\n",
       "      <td>0.204513</td>\n",
       "      <td>-0.289724</td>\n",
       "      <td>-0.062972</td>\n",
       "      <td>0.074180</td>\n",
       "      <td>0.111244</td>\n",
       "      <td>-0.467908</td>\n",
       "    </tr>\n",
       "    <tr>\n",
       "      <th>1</th>\n",
       "      <td>ACH-000004</td>\n",
       "      <td>0.019756</td>\n",
       "      <td>-0.083640</td>\n",
       "      <td>-0.060118</td>\n",
       "      <td>-0.027417</td>\n",
       "      <td>-0.036116</td>\n",
       "      <td>-0.001056</td>\n",
       "      <td>0.312876</td>\n",
       "      <td>-0.086897</td>\n",
       "      <td>0.204434</td>\n",
       "      <td>...</td>\n",
       "      <td>-0.170329</td>\n",
       "      <td>-0.454263</td>\n",
       "      <td>0.194583</td>\n",
       "      <td>0.098989</td>\n",
       "      <td>0.126948</td>\n",
       "      <td>0.032983</td>\n",
       "      <td>-0.410392</td>\n",
       "      <td>0.113156</td>\n",
       "      <td>0.234388</td>\n",
       "      <td>-0.088306</td>\n",
       "    </tr>\n",
       "    <tr>\n",
       "      <th>2</th>\n",
       "      <td>ACH-000005</td>\n",
       "      <td>-0.107208</td>\n",
       "      <td>-0.023211</td>\n",
       "      <td>0.200204</td>\n",
       "      <td>0.116039</td>\n",
       "      <td>-0.172227</td>\n",
       "      <td>-0.071294</td>\n",
       "      <td>0.203270</td>\n",
       "      <td>-0.127806</td>\n",
       "      <td>-0.090981</td>\n",
       "      <td>...</td>\n",
       "      <td>-0.301695</td>\n",
       "      <td>-0.454969</td>\n",
       "      <td>-0.061959</td>\n",
       "      <td>-0.036427</td>\n",
       "      <td>0.016602</td>\n",
       "      <td>-0.201273</td>\n",
       "      <td>-0.178877</td>\n",
       "      <td>-0.055349</td>\n",
       "      <td>-0.002161</td>\n",
       "      <td>-0.186842</td>\n",
       "    </tr>\n",
       "    <tr>\n",
       "      <th>3</th>\n",
       "      <td>ACH-000007</td>\n",
       "      <td>-0.031027</td>\n",
       "      <td>-0.137850</td>\n",
       "      <td>0.067704</td>\n",
       "      <td>0.107988</td>\n",
       "      <td>0.007992</td>\n",
       "      <td>0.124945</td>\n",
       "      <td>0.049548</td>\n",
       "      <td>-0.220824</td>\n",
       "      <td>-0.165669</td>\n",
       "      <td>...</td>\n",
       "      <td>-0.303390</td>\n",
       "      <td>-0.507272</td>\n",
       "      <td>-0.025400</td>\n",
       "      <td>0.236659</td>\n",
       "      <td>0.072010</td>\n",
       "      <td>-0.100344</td>\n",
       "      <td>-0.462160</td>\n",
       "      <td>-0.001555</td>\n",
       "      <td>-0.325964</td>\n",
       "      <td>-0.486660</td>\n",
       "    </tr>\n",
       "    <tr>\n",
       "      <th>4</th>\n",
       "      <td>ACH-000009</td>\n",
       "      <td>0.008888</td>\n",
       "      <td>-0.146566</td>\n",
       "      <td>0.084471</td>\n",
       "      <td>0.089419</td>\n",
       "      <td>0.065109</td>\n",
       "      <td>0.027841</td>\n",
       "      <td>0.087943</td>\n",
       "      <td>-0.161369</td>\n",
       "      <td>0.041121</td>\n",
       "      <td>...</td>\n",
       "      <td>-0.255466</td>\n",
       "      <td>-0.288739</td>\n",
       "      <td>-0.037132</td>\n",
       "      <td>0.261444</td>\n",
       "      <td>-0.062391</td>\n",
       "      <td>-0.112703</td>\n",
       "      <td>-0.598698</td>\n",
       "      <td>0.095877</td>\n",
       "      <td>-0.026742</td>\n",
       "      <td>-0.320759</td>\n",
       "    </tr>\n",
       "  </tbody>\n",
       "</table>\n",
       "<p>5 rows × 18444 columns</p>\n",
       "</div>"
      ],
      "text/plain": [
       "   Unnamed: 0  A1BG (1)  A1CF (29974)   A2M (2)  A2ML1 (144568)  \\\n",
       "0  ACH-000001 -0.122637      0.025881  0.034217       -0.128082   \n",
       "1  ACH-000004  0.019756     -0.083640 -0.060118       -0.027417   \n",
       "2  ACH-000005 -0.107208     -0.023211  0.200204        0.116039   \n",
       "3  ACH-000007 -0.031027     -0.137850  0.067704        0.107988   \n",
       "4  ACH-000009  0.008888     -0.146566  0.084471        0.089419   \n",
       "\n",
       "   A3GALT2 (127550)  A4GALT (53947)  A4GNT (51146)  AAAS (8086)  AACS (65985)  \\\n",
       "0         -0.031285        0.338046      -0.006439    -0.093642      0.189186   \n",
       "1         -0.036116       -0.001056       0.312876    -0.086897      0.204434   \n",
       "2         -0.172227       -0.071294       0.203270    -0.127806     -0.090981   \n",
       "3          0.007992        0.124945       0.049548    -0.220824     -0.165669   \n",
       "4          0.065109        0.027841       0.087943    -0.161369      0.041121   \n",
       "\n",
       "   ...  ZWILCH (55055)  ZWINT (11130)  ZXDA (7789)  ZXDB (158586)  \\\n",
       "0  ...       -0.131727      -0.039829     0.179405       0.283552   \n",
       "1  ...       -0.170329      -0.454263     0.194583       0.098989   \n",
       "2  ...       -0.301695      -0.454969    -0.061959      -0.036427   \n",
       "3  ...       -0.303390      -0.507272    -0.025400       0.236659   \n",
       "4  ...       -0.255466      -0.288739    -0.037132       0.261444   \n",
       "\n",
       "   ZXDC (79364)  ZYG11A (440590)  ZYG11B (79699)  ZYX (7791)  ZZEF1 (23140)  \\\n",
       "0      0.204513        -0.289724       -0.062972    0.074180       0.111244   \n",
       "1      0.126948         0.032983       -0.410392    0.113156       0.234388   \n",
       "2      0.016602        -0.201273       -0.178877   -0.055349      -0.002161   \n",
       "3      0.072010        -0.100344       -0.462160   -0.001555      -0.325964   \n",
       "4     -0.062391        -0.112703       -0.598698    0.095877      -0.026742   \n",
       "\n",
       "   ZZZ3 (26009)  \n",
       "0     -0.467908  \n",
       "1     -0.088306  \n",
       "2     -0.186842  \n",
       "3     -0.486660  \n",
       "4     -0.320759  \n",
       "\n",
       "[5 rows x 18444 columns]"
      ]
     },
     "execution_count": 9,
     "metadata": {},
     "output_type": "execute_result"
    }
   ],
   "source": [
    "print (crispr_dataframe.shape)\n",
    "print (\"\")\n",
    "print (\"\")\n",
    "crispr_dataframe.head(5)"
   ]
  },
  {
   "cell_type": "code",
   "execution_count": 10,
   "id": "cd2bd9ab",
   "metadata": {},
   "outputs": [],
   "source": [
    "# Get List of the Headers\n",
    "column_headers = crispr_dataframe.columns.tolist()\n",
    "#print (column_headers)\n",
    "\n",
    "crispr_genes = column_headers[1:]\n",
    "#print (crispr_genes)"
   ]
  },
  {
   "cell_type": "markdown",
   "id": "4dc50b3e",
   "metadata": {},
   "source": [
    "# Examine CRISPR Gene Variance"
   ]
  },
  {
   "cell_type": "code",
   "execution_count": 11,
   "id": "45c58583",
   "metadata": {},
   "outputs": [
    {
     "name": "stdout",
     "output_type": "stream",
     "text": [
      "A1BG (1)            0.010899\n",
      "A1CF (29974)        0.011160\n",
      "A2M (2)             0.009393\n",
      "A2ML1 (144568)      0.009988\n",
      "A3GALT2 (127550)    0.015312\n",
      "                      ...   \n",
      "ZYG11A (440590)     0.009609\n",
      "ZYG11B (79699)      0.016723\n",
      "ZYX (7791)          0.016104\n",
      "ZZEF1 (23140)       0.013737\n",
      "ZZZ3 (26009)        0.028630\n",
      "Length: 18443, dtype: float64\n"
     ]
    },
    {
     "name": "stderr",
     "output_type": "stream",
     "text": [
      "C:\\Users\\mjtom\\AppData\\Local\\Temp\\ipykernel_32996\\715259853.py:1: FutureWarning: The default value of numeric_only in DataFrame.var is deprecated. In a future version, it will default to False. In addition, specifying 'numeric_only=None' is deprecated. Select only valid columns or specify the value of numeric_only to silence this warning.\n",
      "  variance_results = crispr_dataframe.var()\n"
     ]
    }
   ],
   "source": [
    "variance_results = crispr_dataframe.var()\n",
    "variance_results.to_csv(\"CRISPR_Gene_Effect_Variance.csv\")\n",
    "\n",
    "print (variance_results)"
   ]
  },
  {
   "cell_type": "markdown",
   "id": "555312da",
   "metadata": {},
   "source": [
    "# Examine Histogram Spread of Data---Variance\n",
    "Identify is there a good cut-off for variance--- remove extra features from the ML model"
   ]
  },
  {
   "cell_type": "code",
   "execution_count": 12,
   "id": "9129712e",
   "metadata": {},
   "outputs": [
    {
     "data": {
      "image/png": "[encoded data removed]",
      "text/plain": [
       "<Figure size 640x480 with 1 Axes>"
      ]
     },
     "metadata": {},
     "output_type": "display_data"
    }
   ],
   "source": [
    "# Read the CSV file into a DataFrame\n",
    "variance_df = pd.read_csv('CRISPR_Gene_Effect_Variance.csv')\n",
    "\n",
    "# Plot a histogram of a single column in the DataFrame\n",
    "variance_df.hist(column='0')\n",
    "\n",
    "# Set the title and axis labels\n",
    "plt.title('Histogram of Column Name')\n",
    "plt.xlabel('Values')\n",
    "plt.ylabel('Frequency')\n",
    "\n",
    "# Display the histogram\n",
    "plt.show()"
   ]
  },
  {
   "cell_type": "code",
   "execution_count": 13,
   "id": "08b10a77",
   "metadata": {},
   "outputs": [
    {
     "data": {
      "image/png": "[encoded data removed]",
      "text/plain": [
       "<Figure size 640x480 with 1 Axes>"
      ]
     },
     "metadata": {},
     "output_type": "display_data"
    }
   ],
   "source": [
    "# Read the CSV file into a DataFrame\n",
    "variance_df = pd.read_csv('CRISPR_Gene_Effect_Variance.csv')\n",
    "\n",
    "# Plot a histogram of a single column in the DataFrame\n",
    "variance_df.hist(column='0', range=[0, 0.04])\n",
    "\n",
    "# Set the title and axis labels\n",
    "plt.title('Histogram of Column Name')\n",
    "plt.xlabel('Values')\n",
    "plt.ylabel('Frequency')\n",
    "\n",
    "# Display the histogram\n",
    "plt.show()"
   ]
  },
  {
   "cell_type": "code",
   "execution_count": 14,
   "id": "9f505045",
   "metadata": {},
   "outputs": [
    {
     "data": {
      "image/png": "[encoded data removed]",
      "text/plain": [
       "<Figure size 640x480 with 1 Axes>"
      ]
     },
     "metadata": {},
     "output_type": "display_data"
    }
   ],
   "source": [
    "# Read the CSV file into a DataFrame\n",
    "variance_df = pd.read_csv('CRISPR_Gene_Effect_Variance.csv')\n",
    "\n",
    "# Plot a histogram of a single column in the DataFrame\n",
    "variance_df.hist(column='0', range=[0, 0.02])\n",
    "\n",
    "# Set the title and axis labels\n",
    "plt.title('Histogram of Column Name')\n",
    "plt.xlabel('Values')\n",
    "plt.ylabel('Frequency')\n",
    "\n",
    "# Display the histogram\n",
    "plt.show()"
   ]
  },
  {
   "cell_type": "markdown",
   "id": "e738a240",
   "metadata": {},
   "source": [
    "Based on the histogram data spread there appears to be a pile up below 0.02 for variance-- will filter values below this--"
   ]
  },
  {
   "cell_type": "markdown",
   "id": "cee1b094",
   "metadata": {},
   "source": [
    "# Find ALL Genes With Low Variance <0.02"
   ]
  },
  {
   "cell_type": "code",
   "execution_count": 15,
   "id": "6bd9d376",
   "metadata": {},
   "outputs": [
    {
     "name": "stdout",
     "output_type": "stream",
     "text": [
      "Total Genes Initially: 18443\n",
      "Total Genes with Low Variance: 12926\n"
     ]
    }
   ],
   "source": [
    "# Create a List of Genes to Remove\n",
    "columns_to_remove = []\n",
    "\n",
    "total_genes_initially = len(crispr_genes)\n",
    "print (\"Total Genes Initially: \" + str(total_genes_initially))\n",
    "\n",
    "# Loop Over the Variance Results\n",
    "counter = 0\n",
    "for variance in variance_results:\n",
    "    #print (counter)\n",
    "    gene_name = crispr_genes[counter]\n",
    "    if variance < 0.02:\n",
    "        columns_to_remove.append(gene_name)\n",
    "        counter+=1\n",
    "    else:  \n",
    "        counter+=1\n",
    "#print (columns_to_remove)\n",
    "print (\"Total Genes with Low Variance: \" + str(len(columns_to_remove)))"
   ]
  },
  {
   "cell_type": "markdown",
   "id": "cb14e131",
   "metadata": {},
   "source": [
    "# Filter the CRISPR Data File"
   ]
  },
  {
   "cell_type": "code",
   "execution_count": 16,
   "id": "0bf59103",
   "metadata": {},
   "outputs": [
    {
     "name": "stdout",
     "output_type": "stream",
     "text": [
      "Original Dataframe Shape\n",
      "(1100, 18444)\n",
      "Filtered Dataframe Shape\n",
      "(1100, 5518)\n"
     ]
    }
   ],
   "source": [
    "print (\"Original Dataframe Shape\")\n",
    "print (crispr_dataframe.shape)\n",
    "\n",
    "# Drop the Columns from the Dataframe\n",
    "filt_crispr_dataframe = crispr_dataframe.drop(columns_to_remove, axis=1)\n",
    "print (\"Filtered Dataframe Shape\")\n",
    "print (filt_crispr_dataframe.shape)"
   ]
  },
  {
   "cell_type": "markdown",
   "id": "100a316c",
   "metadata": {},
   "source": [
    "# Remove Columns with NaNs from Gene Effect"
   ]
  },
  {
   "cell_type": "code",
   "execution_count": 17,
   "id": "d05d87e7",
   "metadata": {},
   "outputs": [
    {
     "name": "stdout",
     "output_type": "stream",
     "text": [
      "(1100, 4813)\n"
     ]
    }
   ],
   "source": [
    "filt_crispr_dataframe = filt_crispr_dataframe.dropna(axis=1)\n",
    "\n",
    "print (filt_crispr_dataframe.shape)"
   ]
  },
  {
   "cell_type": "markdown",
   "id": "00127cdf",
   "metadata": {},
   "source": [
    "# Merge Dataframes for ML"
   ]
  },
  {
   "cell_type": "code",
   "execution_count": 18,
   "id": "b3c72f46",
   "metadata": {},
   "outputs": [],
   "source": [
    "merged_dataframe = pd.merge(filt_sample_info, filt_crispr_dataframe, how='inner', left_on='BROAD_ID', \n",
    "                            right_on='Unnamed: 0')\n",
    "\n",
    "merged_dataframe.to_csv(\"Sample_Info_Filt_CRISPR_Gene_Effect.csv\")"
   ]
  },
  {
   "cell_type": "code",
   "execution_count": 19,
   "id": "e38911e9",
   "metadata": {
    "scrolled": true
   },
   "outputs": [
    {
     "name": "stdout",
     "output_type": "stream",
     "text": [
      "(587, 4817)\n",
      "\n",
      "\n"
     ]
    },
    {
     "data": {
      "text/html": [
       "<div>\n",
       "<style scoped>\n",
       "    .dataframe tbody tr th:only-of-type {\n",
       "        vertical-align: middle;\n",
       "    }\n",
       "\n",
       "    .dataframe tbody tr th {\n",
       "        vertical-align: top;\n",
       "    }\n",
       "\n",
       "    .dataframe thead th {\n",
       "        text-align: right;\n",
       "    }\n",
       "</style>\n",
       "<table border=\"1\" class=\"dataframe\">\n",
       "  <thead>\n",
       "    <tr style=\"text-align: right;\">\n",
       "      <th></th>\n",
       "      <th>BROAD_ID</th>\n",
       "      <th>cancer_type</th>\n",
       "      <th>msi_status</th>\n",
       "      <th>Labels</th>\n",
       "      <th>Unnamed: 0</th>\n",
       "      <th>AAAS (8086)</th>\n",
       "      <th>AAMP (14)</th>\n",
       "      <th>AARS1 (16)</th>\n",
       "      <th>AARS2 (57505)</th>\n",
       "      <th>AASDHPPT (60496)</th>\n",
       "      <th>...</th>\n",
       "      <th>ZPR1 (8882)</th>\n",
       "      <th>ZRANB1 (54764)</th>\n",
       "      <th>ZRANB2 (9406)</th>\n",
       "      <th>ZRSR2 (8233)</th>\n",
       "      <th>ZSWIM7 (125150)</th>\n",
       "      <th>ZSWIM8 (23053)</th>\n",
       "      <th>ZW10 (9183)</th>\n",
       "      <th>ZWILCH (55055)</th>\n",
       "      <th>ZWINT (11130)</th>\n",
       "      <th>ZZZ3 (26009)</th>\n",
       "    </tr>\n",
       "  </thead>\n",
       "  <tbody>\n",
       "    <tr>\n",
       "      <th>0</th>\n",
       "      <td>ACH-000532</td>\n",
       "      <td>Colorectal Carcinoma</td>\n",
       "      <td>MSS</td>\n",
       "      <td>0</td>\n",
       "      <td>ACH-000532</td>\n",
       "      <td>-0.104325</td>\n",
       "      <td>-0.933288</td>\n",
       "      <td>-1.820676</td>\n",
       "      <td>-0.372271</td>\n",
       "      <td>-0.050291</td>\n",
       "      <td>...</td>\n",
       "      <td>-1.407207</td>\n",
       "      <td>-0.276755</td>\n",
       "      <td>-0.309801</td>\n",
       "      <td>-1.237339</td>\n",
       "      <td>0.071687</td>\n",
       "      <td>-0.125052</td>\n",
       "      <td>0.041638</td>\n",
       "      <td>-0.133878</td>\n",
       "      <td>-0.671639</td>\n",
       "      <td>-0.186533</td>\n",
       "    </tr>\n",
       "    <tr>\n",
       "      <th>1</th>\n",
       "      <td>ACH-000402</td>\n",
       "      <td>Burkitt's Lymphoma</td>\n",
       "      <td>MSS</td>\n",
       "      <td>0</td>\n",
       "      <td>ACH-000402</td>\n",
       "      <td>-0.067873</td>\n",
       "      <td>-1.336848</td>\n",
       "      <td>-2.005842</td>\n",
       "      <td>-0.472146</td>\n",
       "      <td>-0.276306</td>\n",
       "      <td>...</td>\n",
       "      <td>-1.612893</td>\n",
       "      <td>0.029810</td>\n",
       "      <td>-0.739913</td>\n",
       "      <td>-0.835282</td>\n",
       "      <td>-0.333429</td>\n",
       "      <td>-0.096797</td>\n",
       "      <td>-0.209837</td>\n",
       "      <td>-0.346218</td>\n",
       "      <td>-0.137199</td>\n",
       "      <td>0.092261</td>\n",
       "    </tr>\n",
       "    <tr>\n",
       "      <th>2</th>\n",
       "      <td>ACH-000558</td>\n",
       "      <td>Glioblastoma</td>\n",
       "      <td>MSS</td>\n",
       "      <td>0</td>\n",
       "      <td>ACH-000558</td>\n",
       "      <td>-0.303328</td>\n",
       "      <td>-0.976429</td>\n",
       "      <td>-2.811766</td>\n",
       "      <td>-0.418374</td>\n",
       "      <td>-0.038853</td>\n",
       "      <td>...</td>\n",
       "      <td>-1.016217</td>\n",
       "      <td>0.079685</td>\n",
       "      <td>-0.233773</td>\n",
       "      <td>-0.298043</td>\n",
       "      <td>-0.076725</td>\n",
       "      <td>-0.087534</td>\n",
       "      <td>-0.050400</td>\n",
       "      <td>-0.380405</td>\n",
       "      <td>-0.307326</td>\n",
       "      <td>-0.235414</td>\n",
       "    </tr>\n",
       "    <tr>\n",
       "      <th>3</th>\n",
       "      <td>ACH-000838</td>\n",
       "      <td>Plasma Cell Myeloma</td>\n",
       "      <td>MSS</td>\n",
       "      <td>0</td>\n",
       "      <td>ACH-000838</td>\n",
       "      <td>-0.257031</td>\n",
       "      <td>-1.059695</td>\n",
       "      <td>-2.143211</td>\n",
       "      <td>-0.179661</td>\n",
       "      <td>-0.649330</td>\n",
       "      <td>...</td>\n",
       "      <td>-1.371773</td>\n",
       "      <td>-0.104347</td>\n",
       "      <td>-0.159808</td>\n",
       "      <td>-1.279215</td>\n",
       "      <td>0.082801</td>\n",
       "      <td>-0.380861</td>\n",
       "      <td>-0.295394</td>\n",
       "      <td>-0.262585</td>\n",
       "      <td>-0.782286</td>\n",
       "      <td>-0.215217</td>\n",
       "    </tr>\n",
       "    <tr>\n",
       "      <th>4</th>\n",
       "      <td>ACH-000667</td>\n",
       "      <td>Non-Small Cell Lung Carcinoma</td>\n",
       "      <td>MSS</td>\n",
       "      <td>0</td>\n",
       "      <td>ACH-000667</td>\n",
       "      <td>0.011899</td>\n",
       "      <td>-1.116389</td>\n",
       "      <td>-1.631972</td>\n",
       "      <td>-0.408868</td>\n",
       "      <td>-0.473531</td>\n",
       "      <td>...</td>\n",
       "      <td>-1.156481</td>\n",
       "      <td>-0.153457</td>\n",
       "      <td>-0.613195</td>\n",
       "      <td>-0.885288</td>\n",
       "      <td>-0.122854</td>\n",
       "      <td>-0.031501</td>\n",
       "      <td>0.081113</td>\n",
       "      <td>-0.067789</td>\n",
       "      <td>-0.732440</td>\n",
       "      <td>-0.519676</td>\n",
       "    </tr>\n",
       "  </tbody>\n",
       "</table>\n",
       "<p>5 rows × 4817 columns</p>\n",
       "</div>"
      ],
      "text/plain": [
       "     BROAD_ID                    cancer_type msi_status  Labels  Unnamed: 0  \\\n",
       "0  ACH-000532           Colorectal Carcinoma        MSS       0  ACH-000532   \n",
       "1  ACH-000402             Burkitt's Lymphoma        MSS       0  ACH-000402   \n",
       "2  ACH-000558                   Glioblastoma        MSS       0  ACH-000558   \n",
       "3  ACH-000838            Plasma Cell Myeloma        MSS       0  ACH-000838   \n",
       "4  ACH-000667  Non-Small Cell Lung Carcinoma        MSS       0  ACH-000667   \n",
       "\n",
       "   AAAS (8086)  AAMP (14)  AARS1 (16)  AARS2 (57505)  AASDHPPT (60496)  ...  \\\n",
       "0    -0.104325  -0.933288   -1.820676      -0.372271         -0.050291  ...   \n",
       "1    -0.067873  -1.336848   -2.005842      -0.472146         -0.276306  ...   \n",
       "2    -0.303328  -0.976429   -2.811766      -0.418374         -0.038853  ...   \n",
       "3    -0.257031  -1.059695   -2.143211      -0.179661         -0.649330  ...   \n",
       "4     0.011899  -1.116389   -1.631972      -0.408868         -0.473531  ...   \n",
       "\n",
       "   ZPR1 (8882)  ZRANB1 (54764)  ZRANB2 (9406)  ZRSR2 (8233)  ZSWIM7 (125150)  \\\n",
       "0    -1.407207       -0.276755      -0.309801     -1.237339         0.071687   \n",
       "1    -1.612893        0.029810      -0.739913     -0.835282        -0.333429   \n",
       "2    -1.016217        0.079685      -0.233773     -0.298043        -0.076725   \n",
       "3    -1.371773       -0.104347      -0.159808     -1.279215         0.082801   \n",
       "4    -1.156481       -0.153457      -0.613195     -0.885288        -0.122854   \n",
       "\n",
       "   ZSWIM8 (23053)  ZW10 (9183)  ZWILCH (55055)  ZWINT (11130)  ZZZ3 (26009)  \n",
       "0       -0.125052     0.041638       -0.133878      -0.671639     -0.186533  \n",
       "1       -0.096797    -0.209837       -0.346218      -0.137199      0.092261  \n",
       "2       -0.087534    -0.050400       -0.380405      -0.307326     -0.235414  \n",
       "3       -0.380861    -0.295394       -0.262585      -0.782286     -0.215217  \n",
       "4       -0.031501     0.081113       -0.067789      -0.732440     -0.519676  \n",
       "\n",
       "[5 rows x 4817 columns]"
      ]
     },
     "execution_count": 19,
     "metadata": {},
     "output_type": "execute_result"
    }
   ],
   "source": [
    "print (merged_dataframe.shape)\n",
    "print (\"\")\n",
    "print (\"\")\n",
    "merged_dataframe.head(5)"
   ]
  },
  {
   "cell_type": "markdown",
   "id": "f10e8a5b",
   "metadata": {},
   "source": [
    "# See what MSS VS MSI Counts Are Now"
   ]
  },
  {
   "cell_type": "code",
   "execution_count": 20,
   "id": "08bacf57",
   "metadata": {},
   "outputs": [
    {
     "data": {
      "text/plain": [
       "MSS    534\n",
       "MSI     53\n",
       "Name: msi_status, dtype: int64"
      ]
     },
     "execution_count": 20,
     "metadata": {},
     "output_type": "execute_result"
    }
   ],
   "source": [
    "merged_dataframe['msi_status'].value_counts()"
   ]
  },
  {
   "cell_type": "markdown",
   "id": "40fec1ae",
   "metadata": {},
   "source": [
    "Warning--- MSI Status is Extremely Low--- So Model Will Struggle A lot with the Bias"
   ]
  },
  {
   "cell_type": "markdown",
   "id": "d6c4fcfd",
   "metadata": {},
   "source": [
    "# Get the Features and Target from the Dataframe"
   ]
  },
  {
   "cell_type": "code",
   "execution_count": 21,
   "id": "95f557e1",
   "metadata": {},
   "outputs": [
    {
     "name": "stdout",
     "output_type": "stream",
     "text": [
      "0      0\n",
      "1      0\n",
      "2      0\n",
      "3      0\n",
      "4      0\n",
      "      ..\n",
      "582    0\n",
      "583    0\n",
      "584    1\n",
      "585    0\n",
      "586    0\n",
      "Name: Labels, Length: 587, dtype: int64\n",
      "\n",
      "\n",
      "The number of features are: 4812\n"
     ]
    }
   ],
   "source": [
    "# Get List of the Headers\n",
    "column_headers = merged_dataframe.columns.tolist()\n",
    "#print (column_headers)\n",
    "feature_columns = column_headers[5:]\n",
    "#print (feature_columns)\n",
    "\n",
    "\n",
    "y = merged_dataframe['Labels']\n",
    "print (y)\n",
    "print (\"\")\n",
    "print (\"\")\n",
    "\n",
    "X = merged_dataframe[feature_columns]\n",
    "#print (X)\n",
    "print (\"The number of features are: \" + str(len(feature_columns)))"
   ]
  },
  {
   "cell_type": "markdown",
   "id": "be767650",
   "metadata": {},
   "source": [
    "# Create the Train Test Datasets\n",
    "\n",
    "Turn on the Stratify Setting Because of the Class Imbalance Between Groups"
   ]
  },
  {
   "cell_type": "code",
   "execution_count": 26,
   "id": "ff6fa763",
   "metadata": {},
   "outputs": [
    {
     "name": "stdout",
     "output_type": "stream",
     "text": [
      "Done Setting Up Train Test Dataset\n"
     ]
    }
   ],
   "source": [
    "# i.e. 70 % training dataset and 30 % test datasets\n",
    "X_train, X_test, y_train, y_test = train_test_split(X, y, test_size = 0.5, stratify=y, random_state=42)\n",
    "print (\"Done Setting Up Train Test Dataset\")"
   ]
  },
  {
   "cell_type": "markdown",
   "id": "6e6b15a1",
   "metadata": {},
   "source": [
    "# Model Building and Training"
   ]
  },
  {
   "cell_type": "code",
   "execution_count": 42,
   "id": "302f632c",
   "metadata": {
    "scrolled": true
   },
   "outputs": [
    {
     "data": {
      "text/html": [
       "<style>#sk-container-id-3 {color: black;background-color: white;}#sk-container-id-3 pre{padding: 0;}#sk-container-id-3 div.sk-toggleable {background-color: white;}#sk-container-id-3 label.sk-toggleable__label {cursor: pointer;display: block;width: 100%;margin-bottom: 0;padding: 0.3em;box-sizing: border-box;text-align: center;}#sk-container-id-3 label.sk-toggleable__label-arrow:before {content: \"▸\";float: left;margin-right: 0.25em;color: #696969;}#sk-container-id-3 label.sk-toggleable__label-arrow:hover:before {color: black;}#sk-container-id-3 div.sk-estimator:hover label.sk-toggleable__label-arrow:before {color: black;}#sk-container-id-3 div.sk-toggleable__content {max-height: 0;max-width: 0;overflow: hidden;text-align: left;background-color: #f0f8ff;}#sk-container-id-3 div.sk-toggleable__content pre {margin: 0.2em;color: black;border-radius: 0.25em;background-color: #f0f8ff;}#sk-container-id-3 input.sk-toggleable__control:checked~div.sk-toggleable__content {max-height: 200px;max-width: 100%;overflow: auto;}#sk-container-id-3 input.sk-toggleable__control:checked~label.sk-toggleable__label-arrow:before {content: \"▾\";}#sk-container-id-3 div.sk-estimator input.sk-toggleable__control:checked~label.sk-toggleable__label {background-color: #d4ebff;}#sk-container-id-3 div.sk-label input.sk-toggleable__control:checked~label.sk-toggleable__label {background-color: #d4ebff;}#sk-container-id-3 input.sk-hidden--visually {border: 0;clip: rect(1px 1px 1px 1px);clip: rect(1px, 1px, 1px, 1px);height: 1px;margin: -1px;overflow: hidden;padding: 0;position: absolute;width: 1px;}#sk-container-id-3 div.sk-estimator {font-family: monospace;background-color: #f0f8ff;border: 1px dotted black;border-radius: 0.25em;box-sizing: border-box;margin-bottom: 0.5em;}#sk-container-id-3 div.sk-estimator:hover {background-color: #d4ebff;}#sk-container-id-3 div.sk-parallel-item::after {content: \"\";width: 100%;border-bottom: 1px solid gray;flex-grow: 1;}#sk-container-id-3 div.sk-label:hover label.sk-toggleable__label {background-color: #d4ebff;}#sk-container-id-3 div.sk-serial::before {content: \"\";position: absolute;border-left: 1px solid gray;box-sizing: border-box;top: 0;bottom: 0;left: 50%;z-index: 0;}#sk-container-id-3 div.sk-serial {display: flex;flex-direction: column;align-items: center;background-color: white;padding-right: 0.2em;padding-left: 0.2em;position: relative;}#sk-container-id-3 div.sk-item {position: relative;z-index: 1;}#sk-container-id-3 div.sk-parallel {display: flex;align-items: stretch;justify-content: center;background-color: white;position: relative;}#sk-container-id-3 div.sk-item::before, #sk-container-id-3 div.sk-parallel-item::before {content: \"\";position: absolute;border-left: 1px solid gray;box-sizing: border-box;top: 0;bottom: 0;left: 50%;z-index: -1;}#sk-container-id-3 div.sk-parallel-item {display: flex;flex-direction: column;z-index: 1;position: relative;background-color: white;}#sk-container-id-3 div.sk-parallel-item:first-child::after {align-self: flex-end;width: 50%;}#sk-container-id-3 div.sk-parallel-item:last-child::after {align-self: flex-start;width: 50%;}#sk-container-id-3 div.sk-parallel-item:only-child::after {width: 0;}#sk-container-id-3 div.sk-dashed-wrapped {border: 1px dashed gray;margin: 0 0.4em 0.5em 0.4em;box-sizing: border-box;padding-bottom: 0.4em;background-color: white;}#sk-container-id-3 div.sk-label label {font-family: monospace;font-weight: bold;display: inline-block;line-height: 1.2em;}#sk-container-id-3 div.sk-label-container {text-align: center;}#sk-container-id-3 div.sk-container {/* jupyter's `normalize.less` sets `[hidden] { display: none; }` but bootstrap.min.css set `[hidden] { display: none !important; }` so we also need the `!important` here to be able to override the default hidden behavior on the sphinx rendered scikit-learn.org. See: https://github.com/scikit-learn/scikit-learn/issues/21755 */display: inline-block !important;position: relative;}#sk-container-id-3 div.sk-text-repr-fallback {display: none;}</style><div id=\"sk-container-id-3\" class=\"sk-top-container\"><div class=\"sk-text-repr-fallback\"><pre>GaussianNB()</pre><b>In a Jupyter environment, please rerun this cell to show the HTML representation or trust the notebook. <br />On GitHub, the HTML representation is unable to render, please try loading this page with nbviewer.org.</b></div><div class=\"sk-container\" hidden><div class=\"sk-item\"><div class=\"sk-estimator sk-toggleable\"><input class=\"sk-toggleable__control sk-hidden--visually\" id=\"sk-estimator-id-3\" type=\"checkbox\" checked><label for=\"sk-estimator-id-3\" class=\"sk-toggleable__label sk-toggleable__label-arrow\">GaussianNB</label><div class=\"sk-toggleable__content\"><pre>GaussianNB()</pre></div></div></div></div></div>"
      ],
      "text/plain": [
       "GaussianNB()"
      ]
     },
     "execution_count": 42,
     "metadata": {},
     "output_type": "execute_result"
    }
   ],
   "source": [
    "from sklearn.naive_bayes import GaussianNB\n",
    "\n",
    "# Build a Gaussian Classifier\n",
    "model = GaussianNB()\n",
    "\n",
    "# Model training\n",
    "model.fit(X_train, y_train)\n",
    "\n"
   ]
  },
  {
   "cell_type": "markdown",
   "id": "ff6c8e5b",
   "metadata": {},
   "source": [
    "# Look at the Top Rows of the X_test Dataset To See Indexes"
   ]
  },
  {
   "cell_type": "code",
   "execution_count": 74,
   "id": "cb52d979",
   "metadata": {},
   "outputs": [
    {
     "name": "stdout",
     "output_type": "stream",
     "text": [
      "     AAAS (8086)  AAMP (14)  AARS1 (16)  AARS2 (57505)  AASDHPPT (60496)  \\\n",
      "526    -0.105338  -0.884448   -1.573515      -0.342208         -0.524358   \n",
      "98     -0.192663  -1.211354   -1.582064      -0.023126         -0.262868   \n",
      "311    -0.186707  -0.930018   -2.052899      -0.034046         -0.381778   \n",
      "193    -0.094267  -0.685094   -1.795592      -0.605237         -0.192578   \n",
      "126     0.008414  -1.035198   -2.260895      -0.249877         -0.255592   \n",
      "\n",
      "     AATF (26574)  ABCB10 (23456)  ABCB7 (22)  ABCD1 (215)  ABCE1 (6059)  ...  \\\n",
      "526     -0.638914       -0.189741   -1.046666     0.054668     -1.986848  ...   \n",
      "98      -0.777419        0.244496   -0.653535    -0.119382     -1.670386  ...   \n",
      "311     -0.782923       -0.111075   -1.563851    -0.017928     -2.070800  ...   \n",
      "193     -0.554396        0.173177   -0.953934    -0.151055     -2.059519  ...   \n",
      "126     -0.838485       -0.401604   -1.402562    -0.045183     -2.174959  ...   \n",
      "\n",
      "     ZPR1 (8882)  ZRANB1 (54764)  ZRANB2 (9406)  ZRSR2 (8233)  \\\n",
      "526    -1.166449       -0.194955      -0.343799     -0.703252   \n",
      "98     -1.301402       -0.026933       0.229149     -1.046236   \n",
      "311    -1.114444       -0.214662      -0.004229     -0.397967   \n",
      "193    -1.572785       -0.335104       0.042668     -0.802880   \n",
      "126    -1.668265       -0.326536      -0.091958     -0.225492   \n",
      "\n",
      "     ZSWIM7 (125150)  ZSWIM8 (23053)  ZW10 (9183)  ZWILCH (55055)  \\\n",
      "526        -0.154509       -0.133170    -0.416689       -0.352757   \n",
      "98          0.220095       -0.201515    -0.355490        0.184075   \n",
      "311        -0.021550       -0.163988    -0.020371       -0.291362   \n",
      "193        -0.012646        0.030429    -0.292668       -0.230818   \n",
      "126        -0.145463       -0.086032    -0.181868       -0.184587   \n",
      "\n",
      "     ZWINT (11130)  ZZZ3 (26009)  \n",
      "526      -0.358738     -0.326189  \n",
      "98       -1.005252     -0.285810  \n",
      "311      -0.566490     -0.467813  \n",
      "193      -0.611630     -0.268868  \n",
      "126      -0.203878     -0.305525  \n",
      "\n",
      "[5 rows x 4812 columns]\n"
     ]
    }
   ],
   "source": [
    "#print ([X_test])\n",
    "print (X_test.head(5))"
   ]
  },
  {
   "cell_type": "markdown",
   "id": "76b82745",
   "metadata": {},
   "source": [
    "# Predict the MSI Status of a Specific Row from the Dataset"
   ]
  },
  {
   "cell_type": "code",
   "execution_count": 75,
   "id": "35bce8d7",
   "metadata": {},
   "outputs": [
    {
     "name": "stdout",
     "output_type": "stream",
     "text": [
      "Actual Value: 0\n",
      "Predicted Value: 0\n"
     ]
    },
    {
     "name": "stderr",
     "output_type": "stream",
     "text": [
      "C:\\Users\\mjtom\\anaconda3\\lib\\site-packages\\sklearn\\base.py:420: UserWarning: X does not have valid feature names, but GaussianNB was fitted with feature names\n",
      "  warnings.warn(\n"
     ]
    }
   ],
   "source": [
    "# Predict Output\n",
    "#print (X_test.loc[526])\n",
    "predicted = model.predict([X_test.loc[526]])\n",
    "\n",
    "print(\"Actual Value:\", y_test.loc[526])\n",
    "print(\"Predicted Value:\", predicted[0])"
   ]
  },
  {
   "cell_type": "markdown",
   "id": "38eb02e2",
   "metadata": {},
   "source": [
    "# Evaluate the Model"
   ]
  },
  {
   "cell_type": "code",
   "execution_count": 43,
   "id": "722b5a2a",
   "metadata": {
    "scrolled": true
   },
   "outputs": [
    {
     "name": "stdout",
     "output_type": "stream",
     "text": [
      "Accuracy: 0.935374149659864\n",
      "F1 Score: 0.9413011613485173\n"
     ]
    }
   ],
   "source": [
    "from sklearn.metrics import (\n",
    "    accuracy_score,\n",
    "    confusion_matrix,\n",
    "    ConfusionMatrixDisplay,\n",
    "    f1_score,\n",
    ")\n",
    "\n",
    "y_pred = model.predict(X_test)\n",
    "accuray = accuracy_score(y_pred, y_test)\n",
    "f1 = f1_score(y_pred, y_test, average=\"weighted\")\n",
    "\n",
    "print(\"Accuracy:\", accuray)\n",
    "print(\"F1 Score:\", f1)"
   ]
  },
  {
   "cell_type": "markdown",
   "id": "f24337d8",
   "metadata": {},
   "source": [
    "# Create a Confusion Matrix To See How Well Model Worked to Predict MSI Status"
   ]
  },
  {
   "cell_type": "code",
   "execution_count": 44,
   "id": "ea139d48",
   "metadata": {},
   "outputs": [
    {
     "data": {
      "image/png": "[encoded data removed]",
      "text/plain": [
       "<Figure size 640x480 with 2 Axes>"
      ]
     },
     "metadata": {},
     "output_type": "display_data"
    }
   ],
   "source": [
    "labels = [0,1]\n",
    "cm = confusion_matrix(y_test, y_pred, labels=labels)\n",
    "disp = ConfusionMatrixDisplay(confusion_matrix=cm, display_labels=labels)\n",
    "disp.plot();"
   ]
  },
  {
   "cell_type": "markdown",
   "id": "678e4dd2",
   "metadata": {},
   "source": [
    "# Finding the Specificity and Sensitivity"
   ]
  },
  {
   "cell_type": "code",
   "execution_count": 35,
   "id": "3f1290ab",
   "metadata": {},
   "outputs": [
    {
     "name": "stdout",
     "output_type": "stream",
     "text": [
      "Sensitivity is: 94.92753623188406\n",
      "Specificity is: 72.22222222222221\n"
     ]
    }
   ],
   "source": [
    "# Break Apart the Confusion Matrix To Get Values of Interest\n",
    "true_positive = cm[0][0]\n",
    "#print (true_positive)\n",
    "false_positive = cm[0][1]\n",
    "#print (false_positive)\n",
    "false_negative = cm[1][0]\n",
    "#print (false_negative)\n",
    "true_negative = cm[1][1]\n",
    "#print (true_negative)\n",
    "\n",
    "sensitivity = true_positive / (true_positive + false_negative) * 100\n",
    "#print (sensitivity)\n",
    "\n",
    "specificity = true_negative / (false_positive + true_negative) * 100\n",
    "\n",
    "print (\"Sensitivity is: \" + str(sensitivity))\n",
    "print (\"Specificity is: \" + str(specificity))"
   ]
  },
  {
   "cell_type": "markdown",
   "id": "1a263e5e",
   "metadata": {},
   "source": [
    "# Calculate ROC AUC"
   ]
  },
  {
   "cell_type": "code",
   "execution_count": 37,
   "id": "ca65f7fd",
   "metadata": {
    "scrolled": true
   },
   "outputs": [],
   "source": [
    "# Get predicted class probabilities for the test set \n",
    "y_pred_prob = model.predict_proba(X_test)[:, 1] "
   ]
  },
  {
   "cell_type": "code",
   "execution_count": 38,
   "id": "685962fc",
   "metadata": {},
   "outputs": [],
   "source": [
    "\n",
    "# Compute the false positive rate (FPR)  \n",
    "# and true positive rate (TPR) for different classification thresholds \n",
    "fpr, tpr, thresholds = roc_curve(y_test, y_pred_prob, pos_label=1)"
   ]
  },
  {
   "cell_type": "code",
   "execution_count": 39,
   "id": "5b45ca30",
   "metadata": {},
   "outputs": [
    {
     "data": {
      "text/plain": [
       "0.8820918296573728"
      ]
     },
     "execution_count": 39,
     "metadata": {},
     "output_type": "execute_result"
    }
   ],
   "source": [
    "# Compute the ROC AUC score \n",
    "roc_auc = roc_auc_score(y_test, y_pred_prob) \n",
    "roc_auc"
   ]
  },
  {
   "cell_type": "code",
   "execution_count": 40,
   "id": "0c473246",
   "metadata": {},
   "outputs": [
    {
     "data": {
      "image/png": "[encoded data removed]",
      "text/plain": [
       "<Figure size 640x480 with 1 Axes>"
      ]
     },
     "metadata": {},
     "output_type": "display_data"
    }
   ],
   "source": [
    "# Plot the ROC curve \n",
    "plt.plot(fpr, tpr, label='ROC curve (area = %0.2f)' % roc_auc) \n",
    "# roc curve for tpr = fpr  \n",
    "plt.plot([0, 1], [0, 1], 'k--', label='Random classifier') \n",
    "plt.xlabel('False Positive Rate') \n",
    "plt.ylabel('True Positive Rate') \n",
    "plt.title('ROC Curve') \n",
    "plt.legend(loc=\"lower right\") \n",
    "plt.show()"
   ]
  },
  {
   "cell_type": "code",
   "execution_count": null,
   "id": "9b10ed54",
   "metadata": {},
   "outputs": [],
   "source": []
  }
 ],
 "metadata": {
  "kernelspec": {
   "display_name": "Python 3 (ipykernel)",
   "language": "python",
   "name": "python3"
  },
  "language_info": {
   "codemirror_mode": {
    "name": "ipython",
    "version": 3
   },
   "file_extension": ".py",
   "mimetype": "text/x-python",
   "name": "python",
   "nbconvert_exporter": "python",
   "pygments_lexer": "ipython3",
   "version": "3.10.9"
  }
 },
 "nbformat": 4,
 "nbformat_minor": 5
}
